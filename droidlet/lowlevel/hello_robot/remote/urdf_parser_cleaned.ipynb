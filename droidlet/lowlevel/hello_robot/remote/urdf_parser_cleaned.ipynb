{
 "cells": [
  {
   "cell_type": "code",
   "execution_count": 1,
   "id": "30afd80a",
   "metadata": {},
   "outputs": [],
   "source": []
  },
  {
   "cell_type": "code",
   "execution_count": 1,
   "id": "1f311c7f",
   "metadata": {},
   "outputs": [],
   "source": [
    "import os\n",
    "urdf_path = os.path.join(os.getenv(\"HELLO_FLEET_PATH\"), os.getenv(\"HELLO_FLEET_ID\"), \"exported_urdf\", \"stretch.urdf\")\n",
    "mesh_path = os.path.join(os.getenv(\"HELLO_FLEET_PATH\"), os.getenv(\"HELLO_FLEET_ID\"), \"exported_urdf\")"
   ]
  },
  {
   "cell_type": "code",
   "execution_count": 2,
   "id": "e0691c2c",
   "metadata": {},
   "outputs": [
    {
     "name": "stdout",
     "output_type": "stream",
     "text": [
      "Jupyter environment detected. Enabling Open3D WebVisualizer.\n",
      "[Open3D INFO] WebRTC GUI backend enabled.\n",
      "[Open3D INFO] WebRTCWindowSystem: HTTP handshake server disabled.\n"
     ]
    }
   ],
   "source": [
    "from pytransform3d.urdf import UrdfTransformManager\n",
    "import pytransform3d.transformations as pt\n",
    "import pytransform3d.visualizer as pv\n",
    "import numpy as np"
   ]
  },
  {
   "cell_type": "code",
   "execution_count": 3,
   "id": "191d2624",
   "metadata": {},
   "outputs": [],
   "source": [
    "tm = UrdfTransformManager()\n",
    "with open(urdf_path, \"r\") as f:\n",
    "    urdf = f.read()\n",
    "    tm.load_urdf(urdf, mesh_path=mesh_path)\n",
    "\n",
    "\n",
    "camera_transform = tm.get_transform('base_link', 'camera_link')"
   ]
  },
  {
   "cell_type": "code",
   "execution_count": 5,
   "id": "72924e06",
   "metadata": {
    "scrolled": false
   },
   "outputs": [
    {
     "name": "stdout",
     "output_type": "stream",
     "text": [
      "Axes3DSubplot(0.125,0.125;0.775x0.755)\n"
     ]
    },
    {
     "data": {
      "image/png": "[encoded data removed]",
      "text/plain": [
       "<Figure size 1200x800 with 1 Axes>"
      ]
     },
     "metadata": {
      "needs_background": "light"
     },
     "output_type": "display_data"
    }
   ],
   "source": [
    "import matplotlib.pyplot as plt\n",
    "from matplotlib import cm\n",
    "from matplotlib.ticker import LinearLocator, FormatStrFormatter\n",
    "\n",
    "%matplotlib inline\n",
    "plt.rcParams['figure.figsize'] = [12, 8]\n",
    "plt.rcParams['figure.dpi'] = 100 # 200 e.g. is really fine, but slower\n",
    "mp = tm.plot_visuals(\"base_link\", ax_s=1, alpha=0.5, convex_hull_of_mesh=True)\n",
    "print(mp)\n",
    "mp.azim = 0\n",
    "mp.elev = 0\n",
    "# mp.dist = 10\n",
    "plt.show()"
   ]
  },
  {
   "cell_type": "code",
   "execution_count": null,
   "id": "85b5a86c",
   "metadata": {},
   "outputs": [],
   "source": []
  },
  {
   "cell_type": "code",
   "execution_count": 7,
   "id": "b8f8b30f",
   "metadata": {},
   "outputs": [
    {
     "ename": "KeyError",
     "evalue": "\"Joint 'base_link' is not known\"",
     "output_type": "error",
     "traceback": [
      "\u001b[0;31m---------------------------------------------------------------------------\u001b[0m",
      "\u001b[0;31mKeyError\u001b[0m                                  Traceback (most recent call last)",
      "\u001b[0;32m/tmp/ipykernel_4819/3303182620.py\u001b[0m in \u001b[0;36m<module>\u001b[0;34m\u001b[0m\n\u001b[1;32m      1\u001b[0m \u001b[0mtm\u001b[0m\u001b[0;34m.\u001b[0m\u001b[0mset_joint\u001b[0m\u001b[0;34m(\u001b[0m\u001b[0;34m\"joint_left_wheel\"\u001b[0m\u001b[0;34m,\u001b[0m \u001b[0;36m0.5\u001b[0m \u001b[0;34m*\u001b[0m \u001b[0mnp\u001b[0m\u001b[0;34m.\u001b[0m\u001b[0mpi\u001b[0m\u001b[0;34m)\u001b[0m\u001b[0;34m\u001b[0m\u001b[0;34m\u001b[0m\u001b[0m\n\u001b[1;32m      2\u001b[0m \u001b[0;31m# tm.set_joint(\"joint_head_pan\", 0.5 * np.pi / 2)\u001b[0m\u001b[0;34m\u001b[0m\u001b[0;34m\u001b[0m\u001b[0;34m\u001b[0m\u001b[0m\n\u001b[0;32m----> 3\u001b[0;31m \u001b[0mtm\u001b[0m\u001b[0;34m.\u001b[0m\u001b[0mset_joint\u001b[0m\u001b[0;34m(\u001b[0m\u001b[0;34m\"base_link\"\u001b[0m\u001b[0;34m,\u001b[0m \u001b[0;36m0.5\u001b[0m \u001b[0;34m*\u001b[0m \u001b[0mnp\u001b[0m\u001b[0;34m.\u001b[0m\u001b[0mpi\u001b[0m\u001b[0;34m)\u001b[0m\u001b[0;34m\u001b[0m\u001b[0;34m\u001b[0m\u001b[0m\n\u001b[0m",
      "\u001b[0;32m~/droidlet/droidlet/lowlevel/hello_robot/remote/droidlet/lib/python3.8/site-packages/pytransform3d/urdf.py\u001b[0m in \u001b[0;36mset_joint\u001b[0;34m(self, joint_name, value)\u001b[0m\n\u001b[1;32m     99\u001b[0m         \"\"\"\n\u001b[1;32m    100\u001b[0m         \u001b[0;32mif\u001b[0m \u001b[0mjoint_name\u001b[0m \u001b[0;32mnot\u001b[0m \u001b[0;32min\u001b[0m \u001b[0mself\u001b[0m\u001b[0;34m.\u001b[0m\u001b[0m_joints\u001b[0m\u001b[0;34m:\u001b[0m\u001b[0;34m\u001b[0m\u001b[0;34m\u001b[0m\u001b[0m\n\u001b[0;32m--> 101\u001b[0;31m             \u001b[0;32mraise\u001b[0m \u001b[0mKeyError\u001b[0m\u001b[0;34m(\u001b[0m\u001b[0;34m\"Joint '%s' is not known\"\u001b[0m \u001b[0;34m%\u001b[0m \u001b[0mjoint_name\u001b[0m\u001b[0;34m)\u001b[0m\u001b[0;34m\u001b[0m\u001b[0;34m\u001b[0m\u001b[0m\n\u001b[0m\u001b[1;32m    102\u001b[0m         \u001b[0mfrom_frame\u001b[0m\u001b[0;34m,\u001b[0m \u001b[0mto_frame\u001b[0m\u001b[0;34m,\u001b[0m \u001b[0mchild2parent\u001b[0m\u001b[0;34m,\u001b[0m \u001b[0maxis\u001b[0m\u001b[0;34m,\u001b[0m \u001b[0mlimits\u001b[0m\u001b[0;34m,\u001b[0m \u001b[0mjoint_type\u001b[0m \u001b[0;34m=\u001b[0m\u001b[0;31m \u001b[0m\u001b[0;31m\\\u001b[0m\u001b[0;34m\u001b[0m\u001b[0;34m\u001b[0m\u001b[0m\n\u001b[1;32m    103\u001b[0m             \u001b[0mself\u001b[0m\u001b[0;34m.\u001b[0m\u001b[0m_joints\u001b[0m\u001b[0;34m[\u001b[0m\u001b[0mjoint_name\u001b[0m\u001b[0;34m]\u001b[0m\u001b[0;34m\u001b[0m\u001b[0;34m\u001b[0m\u001b[0m\n",
      "\u001b[0;31mKeyError\u001b[0m: \"Joint 'base_link' is not known\""
     ]
    }
   ],
   "source": [
    "tm.set_joint(\"joint_left_wheel\", 0.5 * np.pi)\n",
    "# tm.set_joint(\"joint_head_pan\", 0.5 * np.pi / 2)\n",
    "tm.set_joint(\"base_link\", 0.5 * np.pi)"
   ]
  },
  {
   "cell_type": "code",
   "execution_count": null,
   "id": "cc13f102",
   "metadata": {
    "scrolled": false
   },
   "outputs": [],
   "source": [
    "mp = tm.plot_visuals(\"base_link\", ax_s=0.1, alpha=0.5, convex_hull_of_mesh=True)\n",
    "print(mp)\n",
    "mp.azim = 0\n",
    "mp.elev = 0\n",
    "mp.dist = 100\n",
    "plt.show()"
   ]
  },
  {
   "cell_type": "code",
   "execution_count": 8,
   "id": "0be94058",
   "metadata": {},
   "outputs": [
    {
     "data": {
      "text/plain": [
       "array([[ 9.97893319e-01,  6.48650746e-02, -1.20275539e-03,\n",
       "        -1.67791984e-02],\n",
       "       [ 1.07329367e-03,  2.03067110e-03,  9.99997362e-01,\n",
       "        -1.31301041e+00],\n",
       "       [ 6.48673459e-02, -9.97891977e-01,  1.95677384e-03,\n",
       "         1.46875778e-02],\n",
       "       [ 0.00000000e+00,  0.00000000e+00,  0.00000000e+00,\n",
       "         1.00000000e+00]])"
      ]
     },
     "execution_count": 8,
     "metadata": {},
     "output_type": "execute_result"
    }
   ],
   "source": [
    "tm.get_transform('base_link', 'camera_link')"
   ]
  },
  {
   "cell_type": "code",
   "execution_count": 7,
   "id": "92586605",
   "metadata": {},
   "outputs": [
    {
     "data": {
      "text/plain": [
       "<pytransform3d.visualizer._figure.Figure at 0x7f5ab20634c0>"
      ]
     },
     "execution_count": 7,
     "metadata": {},
     "output_type": "execute_result"
    }
   ],
   "source": [
    "fig = pv.figure()\n",
    "fig.plot_graph(tm, \"base_link\", s=0.1, show_visuals=True)\n",
    "fig.view_init()\n",
    "fig"
   ]
  },
  {
   "cell_type": "code",
   "execution_count": 6,
   "id": "45bcfe32",
   "metadata": {},
   "outputs": [
    {
     "name": "stdout",
     "output_type": "stream",
     "text": [
      "[Open3D INFO] Resetting default logger to print to terminal.\n",
      "[Open3D INFO] WebRTC GUI backend enabled.\n"
     ]
    }
   ],
   "source": [
    "import open3d as o3d\n",
    "from open3d.web_visualizer import draw\n",
    "o3d.visualization.webrtc_server.enable_webrtc()"
   ]
  },
  {
   "cell_type": "code",
   "execution_count": null,
   "id": "b94b0e21",
   "metadata": {},
   "outputs": [
    {
     "name": "stdout",
     "output_type": "stream",
     "text": [
      "[Open3D INFO] Window window_0 created.\n",
      "[Open3D INFO] EGL headless mode enabled.\n",
      "[Open3D INFO] ICE servers: {\"stun:stun.l.google.com:19302\", \"turn:user:password@34.69.27.100:3478\", \"turn:user:password@34.69.27.100:3478?transport=tcp\"}\n",
      "FEngine (64 bits) created at 0x7f06dc006cd0 (threading is enabled)\n",
      "[Open3D INFO] Set WEBRTC_STUN_SERVER environment variable add a customized WebRTC STUN server.\n",
      "[Open3D INFO] WebRTC Jupyter handshake mode enabled.\n",
      "EGL(1.5)\n",
      "OpenGL(4.6)\n"
     ]
    },
    {
     "name": "stderr",
     "output_type": "stream",
     "text": [
      "Exception in thread Thread-7:\n",
      "Traceback (most recent call last):\n",
      "  File \"/usr/lib/python3.8/threading.py\", line 932, in _bootstrap_inner\n",
      "    self.run()\n",
      "  File \"/usr/lib/python3.8/threading.py\", line 870, in run\n",
      "    self._target(*self._args, **self._kwargs)\n",
      "  File \"/home/hello-robot/droidlet/droidlet/lowlevel/hello_robot/remote/droidlet/lib/python3.8/site-packages/open3d-0.13.0-py3.8-linux-x86_64.egg/open3d/web_visualizer.py\", line 145, in _thread_main\n",
      "    retval = task.func()\n",
      "  File \"/home/hello-robot/droidlet/droidlet/lowlevel/hello_robot/remote/droidlet/lib/python3.8/site-packages/open3d-0.13.0-py3.8-linux-x86_64.egg/open3d/visualization/draw.py\", line 48, in draw\n",
      "    add(geometry, n)\n",
      "  File \"/home/hello-robot/droidlet/droidlet/lowlevel/hello_robot/remote/droidlet/lib/python3.8/site-packages/open3d-0.13.0-py3.8-linux-x86_64.egg/open3d/visualization/draw.py\", line 40, in add\n",
      "    w.add_geometry(\"Object \" + str(n), g)\n",
      "TypeError: add_geometry(): incompatible function arguments. The following argument types are supported:\n",
      "    1. (self: open3d.cpu.pybind.visualization.O3DVisualizer, name: str, geometry: open3d.cpu.pybind.geometry.Geometry3D, material: open3d.cpu.pybind.visualization.rendering.Material = None, group: str = '', time: float = 0.0, is_visible: bool = True) -> None\n",
      "    2. (self: open3d.cpu.pybind.visualization.O3DVisualizer, name: str, geometry: open3d.cpu.pybind.t.geometry.Geometry, material: open3d.cpu.pybind.visualization.rendering.Material = None, group: str = '', time: float = 0.0, is_visible: bool = True) -> None\n",
      "    3. (self: open3d.cpu.pybind.visualization.O3DVisualizer, name: str, model: open3d.cpu.pybind.visualization.rendering.TriangleMeshModel, material: open3d.cpu.pybind.visualization.rendering.Material = None, group: str = '', time: float = 0.0, is_visible: bool = True) -> None\n",
      "    4. (self: object, arg0: dict) -> None\n",
      "\n",
      "Invoked with: <open3d.cpu.pybind.visualization.O3DVisualizer object at 0x7f06fcaf99b0>, 'Object 1', <pytransform3d.visualizer._figure.Figure object at 0x7f070c3af550>\n"
     ]
    }
   ],
   "source": [
    "draw(fig)"
   ]
  },
  {
   "cell_type": "code",
   "execution_count": null,
   "id": "13dd2c6c",
   "metadata": {},
   "outputs": [],
   "source": []
  }
 ],
 "metadata": {
  "kernelspec": {
   "display_name": "Python 3",
   "language": "python",
   "name": "python3"
  },
  "language_info": {
   "codemirror_mode": {
    "name": "ipython",
    "version": 3
   },
   "file_extension": ".py",
   "mimetype": "text/x-python",
   "name": "python",
   "nbconvert_exporter": "python",
   "pygments_lexer": "ipython3",
   "version": "3.8.10"
  }
 },
 "nbformat": 4,
 "nbformat_minor": 5
}
