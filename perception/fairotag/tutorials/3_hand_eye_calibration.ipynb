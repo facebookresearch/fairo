{
 "cells": [
  {
   "cell_type": "markdown",
   "metadata": {},
   "source": [
    "## Example 3: Hand-Eye Calibration"
   ]
  },
  {
   "cell_type": "code",
   "execution_count": 1,
   "metadata": {},
   "outputs": [],
   "source": [
    "import os\n",
    "import json\n",
    "\n",
    "import cv2\n",
    "import numpy as np\n",
    "import sophus as sp\n",
    "\n",
    "import fairotag as frt\n",
    "\n",
    "DATA_DIR = \"data/2_hand_eye_calibration\"\n",
    "\n",
    "NUM_CAMERAS = 3\n",
    "NUM_SAMPLES = 12\n",
    "\n",
    "# (id, length)\n",
    "TABLE_MARKER = (0, 0.1)\n",
    "EE_MARKER = (8, 0.04)"
   ]
  },
  {
   "cell_type": "markdown",
   "metadata": {},
   "source": [
    "Instantiate camera modules"
   ]
  },
  {
   "cell_type": "code",
   "execution_count": 2,
   "metadata": {},
   "outputs": [],
   "source": [
    "with open(\"data/realsense_intrinsics.json\", 'r') as f:\n",
    "    intrinsics = json.load(f)\n",
    "\n",
    "camera_modules = []\n",
    "for _ in range(NUM_CAMERAS):\n",
    "    c = frt.CameraModule()\n",
    "    c.set_intrinsics(frt.utils.dict2intrinsics(intrinsics))\n",
    "    camera_modules.append(c)"
   ]
  },
  {
   "cell_type": "markdown",
   "metadata": {},
   "source": [
    "Instantiate scene"
   ]
  },
  {
   "cell_type": "code",
   "execution_count": 3,
   "metadata": {},
   "outputs": [],
   "source": [
    "scene = frt.Scene()\n",
    "\n",
    "scene.add_frame(\"ee\")\n",
    "for i, c in enumerate(camera_modules):\n",
    "    scene.add_camera(f\"camera_{i + 1}\")"
   ]
  },
  {
   "cell_type": "markdown",
   "metadata": {},
   "source": [
    "Register markers: In this example we assume there is a marker attached to the static workspace and a marker attached to the end-effector."
   ]
  },
  {
   "cell_type": "code",
   "execution_count": 4,
   "metadata": {},
   "outputs": [],
   "source": [
    "# Register markers in cameras\n",
    "for c in camera_modules:\n",
    "    for marker in [TABLE_MARKER, EE_MARKER]:\n",
    "        c.register_marker_size(marker[0], marker[1])\n",
    "\n",
    "# Register markers in scene\n",
    "scene.add_marker(TABLE_MARKER[0], length=TABLE_MARKER[1])\n",
    "scene.add_marker(EE_MARKER[0], length=EE_MARKER[1], frame=\"ee\")"
   ]
  },
  {
   "cell_type": "markdown",
   "metadata": {},
   "source": [
    "Load calibration data\n",
    "\n",
    "`ee_poses.npz` contains a dictionary with fields \"pos\" and \"quat\", each containing a matrix where the j th row is the position or quaternion of the end-effector in that sample.\n",
    "\n",
    "`camera<i>_<j>.jpg` contains the image taken from the i th camera at the j th sample."
   ]
  },
  {
   "cell_type": "code",
   "execution_count": 5,
   "metadata": {},
   "outputs": [],
   "source": [
    "# Load EE pose data\n",
    "ee_pose_data = np.load(os.path.join(DATA_DIR, \"ee_poses.npz\"))\n",
    "\n",
    "# Load images\n",
    "imgs_data = []\n",
    "for j in range(NUM_SAMPLES):\n",
    "    imgs = []\n",
    "    for i in range(NUM_CAMERAS):\n",
    "        filename = os.path.join(DATA_DIR, f\"camera{i}_{j}.jpg\")\n",
    "        img = cv2.imread(filename)\n",
    "        imgs.append(img)\n",
    "    \n",
    "    imgs_data.append(imgs)"
   ]
  },
  {
   "cell_type": "markdown",
   "metadata": {},
   "source": [
    "Add snapshots to scene & solve for extrinsics\n",
    "\n",
    "Note: The optimization process begins by using BFS to initialize all nodes within the factor graph. `init_node` specifies which node to start the BFS from. `init_node` can be any camera, marker, or frame, and defaults to the world frame if not specified. In this particular set of the hand-eye calibration problem, the world frame (which is the robot base) is not a good initialization point, and thus only by specifying the table marker as the initialization node can the optimization problem work."
   ]
  },
  {
   "cell_type": "code",
   "execution_count": 20,
   "metadata": {},
   "outputs": [
    {
     "name": "stdout",
     "output_type": "stream",
     "text": [
      "Warning:  Levenberg-Marquardt giving up because cannot decrease error with maximum lambda\n",
      "converged\n",
      "errorThreshold: 3035.32428082 <? 0\n",
      "absoluteDecrease: 0 <? 1e-05\n",
      "relativeDecrease: 0 <? 1e-05\n",
      "iterations: 0 >? 100\n"
     ]
    }
   ],
   "source": [
    "# Add snapshots\n",
    "for j in range(NUM_SAMPLES):\n",
    "    # Extract sampled EE pose \n",
    "    ee_pos = ee_pose_data[\"pos\"][j, :]\n",
    "    ee_quat = ee_pose_data[\"quat\"][j, :]\n",
    "    ee_pose = frt.utils.xyz_quat_to_se3(ee_pos, ee_quat)\n",
    "\n",
    "    # Extract sampled images\n",
    "    imgs = imgs_data[j]\n",
    "    marker_obs = [c.detect_markers(img) for c, img in zip(camera_modules, imgs)]\n",
    "\n",
    "    # Add snapshot\n",
    "    scene.add_snapshot(\n",
    "        detected_markers={f\"camera_{i + 1}\": detected_markers for i, detected_markers in enumerate(marker_obs)},\n",
    "        frame_transforms=[(\"world\", \"ee\", ee_pose)],\n",
    "    )\n",
    "\n",
    "# Calibrate extrinsics\n",
    "scene.calibrate_extrinsics(init_node=f\"o__{TABLE_MARKER[0]}\", verbosity=1)"
   ]
  },
  {
   "cell_type": "markdown",
   "metadata": {},
   "source": [
    "Query & vizualize results"
   ]
  },
  {
   "cell_type": "code",
   "execution_count": 10,
   "metadata": {},
   "outputs": [
    {
     "name": "stdout",
     "output_type": "stream",
     "text": [
      "{'name': 'camera_1', 'frame': 'world', 'pose': SE3([[  0.971050276056944,   0.231673925172678, -0.0582112855451285, 0.00769160539991629],\n",
      "     [  0.100439432153836,  -0.174886157013916,   0.979452271707773,  -0.941817091159171],\n",
      "     [  0.216733204282009,  -0.956944107291531,  -0.193092448536096,   0.330838683195821],\n",
      "     [                  0,                   0,                   0,                   1]]), 'pose_in_frame': SE3([[ 0.965172377648391,  0.209715181121508,   0.15640276286474, -0.125449296689485],\n",
      "     [-0.113738547636256, -0.202009833482598,  0.972756685897315, -0.832427365753244],\n",
      "     [ 0.235596740652638, -0.956666906495414,  -0.17112161117272,  0.345600387332973],\n",
      "     [                 0,                  0,                  0,                  1]]), 'is_anchor': False}\n",
      "{'name': 'camera_2', 'frame': 'world', 'pose': SE3([[ 0.357292647887772,   0.68356575244764, -0.636458817085627,  0.489090688703952],\n",
      "     [ 0.894272545759248, -0.053762190343029,  0.444281713320269, -0.393348566608664],\n",
      "     [  0.26947834359484, -0.727906236386398, -0.630502920979094,  0.622258974433645],\n",
      "     [                 0,                  0,                  0,                  1]]), 'pose_in_frame': SE3([[ 0.614415895003472,  0.641360692259368, -0.459510141772374,  0.402435631871879],\n",
      "     [ 0.750385941805689, -0.295092674519926,  0.591473796363851, -0.483701580015248],\n",
      "     [ 0.243749966784556, -0.708220852467125, -0.662577676822323,  0.773583677873571],\n",
      "     [                 0,                  0,                  0,                  1]]), 'is_anchor': False}\n",
      "{'name': 'camera_3', 'frame': 'world', 'pose': SE3([[ 0.611509836805109, -0.396484109651579,  0.684730655283071, -0.683662120026479],\n",
      "     [-0.783688399902211, -0.184248850005818,  0.593198831025691, -0.604180124271672],\n",
      "     [-0.109033074565942, -0.899362391956284, -0.423389981678085,  0.402411941072013],\n",
      "     [                 0,                  0,                  0,                  1]]), 'pose_in_frame': SE3([[  0.498253048068727,  -0.367059918115684,     0.7855004243176,  -0.630337873808843],\n",
      "     [ -0.862906704887681,  -0.121665442030806,    0.49049927510174,  -0.384031381772075],\n",
      "     [-0.0844743674146612,  -0.922206341730719,  -0.377358641774025,   0.350734974001543],\n",
      "     [                  0,                   0,                   0,                   1]]), 'is_anchor': False}\n"
     ]
    },
    {
     "data": {
      "image/png": "[encoded data removed]",
      "text/plain": [
       "<Figure size 432x288 with 1 Axes>"
      ]
     },
     "metadata": {
      "needs_background": "light"
     },
     "output_type": "display_data"
    }
   ],
   "source": [
    "for i in range(NUM_CAMERAS):\n",
    "    print(scene.get_camera_info(f\"camera_{i + 1}\"))\n",
    "\n",
    "scene.visualize()"
   ]
  },
  {
   "cell_type": "code",
   "execution_count": null,
   "metadata": {},
   "outputs": [],
   "source": []
  }
 ],
 "metadata": {
  "kernelspec": {
   "display_name": "Python 3 (ipykernel)",
   "language": "python",
   "name": "python3"
  },
  "language_info": {
   "codemirror_mode": {
    "name": "ipython",
    "version": 3
   },
   "file_extension": ".py",
   "mimetype": "text/x-python",
   "name": "python",
   "nbconvert_exporter": "python",
   "pygments_lexer": "ipython3",
   "version": "3.8.12"
  }
 },
 "nbformat": 4,
 "nbformat_minor": 2
}
