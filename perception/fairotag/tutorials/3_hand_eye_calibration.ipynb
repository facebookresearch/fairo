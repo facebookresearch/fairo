{
 "cells": [
  {
   "cell_type": "markdown",
   "metadata": {},
   "source": [
    "## Example 3: Hand-Eye Calibration"
   ]
  },
  {
   "cell_type": "code",
   "execution_count": 1,
   "metadata": {},
   "outputs": [],
   "source": [
    "import os\n",
    "import json\n",
    "\n",
    "import cv2\n",
    "import numpy as np\n",
    "import sophus as sp\n",
    "\n",
    "import fairotag as frt\n",
    "\n",
    "DATA_DIR = \"data/2_hand_eye_calibration\"\n",
    "\n",
    "NUM_CAMERAS = 3\n",
    "NUM_SAMPLES = 12\n",
    "\n",
    "# (id, length)\n",
    "TABLE_MARKER = (0, 0.1)\n",
    "EE_MARKER = (8, 0.04)"
   ]
  },
  {
   "cell_type": "markdown",
   "metadata": {},
   "source": [
    "Instantiate camera modules"
   ]
  },
  {
   "cell_type": "code",
   "execution_count": 2,
   "metadata": {},
   "outputs": [],
   "source": [
    "with open(\"data/realsense_intrinsics.json\", 'r') as f:\n",
    "    intrinsics = json.load(f)\n",
    "\n",
    "camera_modules = []\n",
    "for _ in range(NUM_CAMERAS):\n",
    "    c = frt.CameraModule()\n",
    "    c.set_intrinsics(frt.utils.dict2intrinsics(intrinsics))\n",
    "    camera_modules.append(c)"
   ]
  },
  {
   "cell_type": "markdown",
   "metadata": {},
   "source": [
    "Instantiate scene"
   ]
  },
  {
   "cell_type": "code",
   "execution_count": 3,
   "metadata": {},
   "outputs": [],
   "source": [
    "scene = frt.Scene()\n",
    "\n",
    "scene.add_frame(\"ee\")\n",
    "for i, c in enumerate(camera_modules):\n",
    "    scene.add_camera(f\"camera_{i + 1}\")"
   ]
  },
  {
   "cell_type": "markdown",
   "metadata": {},
   "source": [
    "Register markers: In this example we assume there is a marker attached to the static workspace and a marker attached to the end-effector."
   ]
  },
  {
   "cell_type": "code",
   "execution_count": 4,
   "metadata": {},
   "outputs": [],
   "source": [
    "# Register markers in cameras\n",
    "for c in camera_modules:\n",
    "    for marker in [TABLE_MARKER, EE_MARKER]:\n",
    "        c.register_marker_size(marker[0], marker[1])\n",
    "\n",
    "# Register markers in scene\n",
    "scene.add_marker(TABLE_MARKER[0], length=TABLE_MARKER[1])\n",
    "scene.add_marker(EE_MARKER[0], length=EE_MARKER[1], frame=\"ee\")"
   ]
  },
  {
   "cell_type": "markdown",
   "metadata": {},
   "source": [
    "Load calibration data\n",
    "\n",
    "`ee_poses.npz` contains a dictionary with fields \"pos\" and \"quat\", each containing a matrix where the j th row is the position or quaternion of the end-effector in that sample.\n",
    "\n",
    "`camera<i>_<j>.jpg` contains the image taken from the i th camera at the j th sample."
   ]
  },
  {
   "cell_type": "code",
   "execution_count": 5,
   "metadata": {},
   "outputs": [],
   "source": [
    "# Load EE pose data\n",
    "ee_pose_data = np.load(os.path.join(DATA_DIR, \"ee_poses.npz\"))\n",
    "\n",
    "# Load images\n",
    "imgs_data = []\n",
    "for j in range(NUM_SAMPLES):\n",
    "    imgs = []\n",
    "    for i in range(NUM_CAMERAS):\n",
    "        filename = os.path.join(DATA_DIR, f\"camera{i}_{j}.jpg\")\n",
    "        img = cv2.imread(filename)\n",
    "        imgs.append(img)\n",
    "    \n",
    "    imgs_data.append(imgs)"
   ]
  },
  {
   "cell_type": "markdown",
   "metadata": {},
   "source": [
    "Add snapshots to scene & solve for extrinsics\n",
    "\n",
    "Note: The optimization process begins by using BFS to initialize all nodes within the factor graph. `init_node` specifies which node to start the BFS from. `init_node` can be any camera, marker, or frame, and defaults to the world frame if not specified. In this particular set of the hand-eye calibration problem, the world frame (which is the robot base) is not a good initialization point, and thus only by specifying the table marker as the initialization node can the optimization problem work."
   ]
  },
  {
   "cell_type": "code",
   "execution_count": 9,
   "metadata": {
    "scrolled": true
   },
   "outputs": [
    {
     "name": "stdout",
     "output_type": "stream",
     "text": [
      "Warning:  Levenberg-Marquardt giving up because cannot decrease error with maximum lambda\n",
      "converged\n",
      "errorThreshold: 3729.3491153 <? 0\n",
      "absoluteDecrease: 0 <? 1e-05\n",
      "relativeDecrease: 0 <? 1e-05\n",
      "iterations: 1 >? 100\n"
     ]
    }
   ],
   "source": [
    "# Add snapshots\n",
    "for j in range(NUM_SAMPLES):\n",
    "    # Extract sampled EE pose \n",
    "    ee_pos = ee_pose_data[\"pos\"][j, :]\n",
    "    ee_quat = ee_pose_data[\"quat\"][j, :]\n",
    "    ee_pose = frt.utils.xyz_quat_to_se3(ee_pos, ee_quat)\n",
    "\n",
    "    # Extract sampled images\n",
    "    imgs = imgs_data[j]\n",
    "    marker_obs = [c.detect_markers(img) for c, img in zip(camera_modules, imgs)]\n",
    "\n",
    "    # Add snapshot\n",
    "    scene.add_snapshot(\n",
    "        detected_markers={f\"camera_{i + 1}\": detected_markers for i, detected_markers in enumerate(marker_obs)},\n",
    "        frame_transforms=[(\"world\", \"ee\", ee_pose)],\n",
    "    )\n",
    "\n",
    "# Calibrate extrinsics\n",
    "scene.calibrate_extrinsics(init_node=f\"o__{TABLE_MARKER[0]}\", verbosity=1)"
   ]
  },
  {
   "cell_type": "markdown",
   "metadata": {},
   "source": [
    "Query & vizualize results"
   ]
  },
  {
   "cell_type": "code",
   "execution_count": 10,
   "metadata": {},
   "outputs": [
    {
     "name": "stdout",
     "output_type": "stream",
     "text": [
      "{'name': 'camera_1', 'frame': 'world', 'pose': SE3([[    0.97279618485283,    0.231578401520628, -0.00624713413724087,  -0.0359100208981093],\n",
      "     [  0.0149721764998872,  -0.0359380590065024,     0.99924185753285,    -1.02733615380064],\n",
      "     [   0.231178322224714,   -0.972152199948133,    -0.03842763939367,    0.278449820179892],\n",
      "     [                   0,                    0,                    0,                    1]]), 'pose_in_frame': SE3([[  0.968094322369232,   0.176045045851984,   0.178329820353835,  -0.185405324938858],\n",
      "     [ -0.171095815427557, -0.0555745215161583,   0.983685770203793,   -1.09336370779651],\n",
      "     [  0.183083600957697,  -0.982812095158186, -0.0236808080761526,   0.266111203808355],\n",
      "     [                  0,                   0,                   0,                   1]]), 'is_anchor': False}\n",
      "{'name': 'camera_2', 'frame': 'world', 'pose': SE3([[ 0.408283202364039,  0.677928476173876, -0.611324633774831,  0.475392645065129],\n",
      "     [ 0.819636903622414, 0.0225714058664395,  0.572438536314139, -0.560019002018129],\n",
      "     [ 0.401870841051732, -0.734781268698229, -0.546439671219609,    0.6476761614679],\n",
      "     [                 0,                  0,                  0,                  1]]), 'pose_in_frame': SE3([[ 0.689261835325922,  0.581111981918592, -0.432697338602617,  0.433139678151467],\n",
      "     [ 0.662042866534931, -0.262568799198144,  0.701966429794087, -0.825617386742349],\n",
      "     [ 0.294308282644838, -0.770302856127569, -0.565699694721816,  0.829938972884994],\n",
      "     [                 0,                  0,                  0,                  1]]), 'is_anchor': False}\n",
      "{'name': 'camera_3', 'frame': 'world', 'pose': SE3([[  0.560921967221223,  -0.390016885605342,   0.730241997992024,    -0.7220823741467],\n",
      "     [ -0.796242380249987, -0.0126835182895422,   0.604844773687956,  -0.660640130456743],\n",
      "     [  -0.22663763717112,  -0.920720346960199,   -0.31766243736234,   0.394334303418128],\n",
      "     [                  0,                   0,                   0,                   1]]), 'pose_in_frame': SE3([[   0.539438356496526,   -0.377976263095901,    0.752422889123122,   -0.749059653683048],\n",
      "     [  -0.812996677294711, -0.00119185698996205,    0.582267105532053,   -0.651550135396426],\n",
      "     [  -0.219186364192863,   -0.925814519227785,   -0.307936379369083,    0.425465789185724],\n",
      "     [                   0,                    0,                    0,                    1]]), 'is_anchor': False}\n"
     ]
    },
    {
     "data": {
      "image/png": "[encoded data removed]",
      "text/plain": [
       "<Figure size 432x288 with 1 Axes>"
      ]
     },
     "metadata": {
      "needs_background": "light"
     },
     "output_type": "display_data"
    }
   ],
   "source": [
    "for i in range(NUM_CAMERAS):\n",
    "    print(scene.get_camera_info(f\"camera_{i + 1}\"))\n",
    "\n",
    "scene.visualize()"
   ]
  },
  {
   "cell_type": "code",
   "execution_count": 11,
   "metadata": {},
   "outputs": [
    {
     "data": {
      "text/plain": [
       "{'id': 0,\n",
       " 'frame': 'world',\n",
       " 'pose': SE3([[  0.971490635580369,  -0.150971442272957,  -0.182793787087179, -0.0799016925564323],\n",
       "      [ 0.0860675323225513,    0.94301538004757,  -0.321425532392254,  0.0139015747986368],\n",
       "      [  0.220903428808963,   0.296529284577022,   0.929124350412087,  0.0290204801977228],\n",
       "      [                  0,                   0,                   0,                   1]]),\n",
       " 'pose_in_frame': SE3([[  0.971495804701087,  -0.151078341420603,  -0.182677957624303, -0.0799034052383996],\n",
       "      [ 0.0862017206599869,   0.942995294951479,  -0.321448498292697,  0.0139463534954767],\n",
       "      [  0.220828360505268,   0.296538713244953,   0.929139185883139,  0.0290658179824247],\n",
       "      [                  0,                   0,                   0,                   1]]),\n",
       " 'length': 0.1,\n",
       " 'is_anchor': False,\n",
       " 'is_visible': True}"
      ]
     },
     "execution_count": 11,
     "metadata": {},
     "output_type": "execute_result"
    }
   ],
   "source": [
    "scene.get_marker_info(TABLE_MARKER[0])"
   ]
  },
  {
   "cell_type": "code",
   "execution_count": null,
   "metadata": {},
   "outputs": [],
   "source": []
  },
  {
   "cell_type": "code",
   "execution_count": null,
   "metadata": {},
   "outputs": [],
   "source": []
  }
 ],
 "metadata": {
  "kernelspec": {
   "display_name": "Python 3 (ipykernel)",
   "language": "python",
   "name": "python3"
  },
  "language_info": {
   "codemirror_mode": {
    "name": "ipython",
    "version": 3
   },
   "file_extension": ".py",
   "mimetype": "text/x-python",
   "name": "python",
   "nbconvert_exporter": "python",
   "pygments_lexer": "ipython3",
   "version": "3.8.12"
  }
 },
 "nbformat": 4,
 "nbformat_minor": 2
}
