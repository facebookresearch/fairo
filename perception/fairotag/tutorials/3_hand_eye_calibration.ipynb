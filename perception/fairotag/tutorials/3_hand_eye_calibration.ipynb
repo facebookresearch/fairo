{
 "cells": [
  {
   "cell_type": "markdown",
   "metadata": {},
   "source": [
    "## Example 3: Hand-Eye Calibration"
   ]
  },
  {
   "cell_type": "code",
   "execution_count": 1,
   "metadata": {},
   "outputs": [],
   "source": [
    "import os\n",
    "import json\n",
    "\n",
    "import cv2\n",
    "import numpy as np\n",
    "import sophus as sp\n",
    "\n",
    "import fairotag as frt\n",
    "\n",
    "DATA_DIR = \"data/2_hand_eye_calibration\"\n",
    "\n",
    "NUM_CAMERAS = 3\n",
    "NUM_SAMPLES = 12\n",
    "\n",
    "# (id, length)\n",
    "TABLE_MARKER = (0, 0.1)\n",
    "EE_MARKER = (8, 0.04)"
   ]
  },
  {
   "cell_type": "markdown",
   "metadata": {},
   "source": [
    "Instantiate camera modules"
   ]
  },
  {
   "cell_type": "code",
   "execution_count": 2,
   "metadata": {},
   "outputs": [],
   "source": [
    "with open(\"data/realsense_intrinsics.json\", 'r') as f:\n",
    "    intrinsics = json.load(f)\n",
    "\n",
    "camera_modules = []\n",
    "for _ in range(NUM_CAMERAS):\n",
    "    c = frt.CameraModule()\n",
    "    c.set_intrinsics(frt.utils.dict2intrinsics(intrinsics))\n",
    "    camera_modules.append(c)"
   ]
  },
  {
   "cell_type": "markdown",
   "metadata": {},
   "source": [
    "Instantiate scene"
   ]
  },
  {
   "cell_type": "code",
   "execution_count": 3,
   "metadata": {},
   "outputs": [],
   "source": [
    "scene = frt.Scene()\n",
    "\n",
    "scene.add_frame(\"ee\")\n",
    "for i, c in enumerate(camera_modules):\n",
    "    scene.add_camera(f\"camera_{i + 1}\")"
   ]
  },
  {
   "cell_type": "markdown",
   "metadata": {},
   "source": [
    "Register markers: In this example we assume there is a marker attached to the static workspace and a marker attached to the end-effector."
   ]
  },
  {
   "cell_type": "code",
   "execution_count": 4,
   "metadata": {},
   "outputs": [],
   "source": [
    "# Register markers in cameras\n",
    "for c in camera_modules:\n",
    "    for marker in [TABLE_MARKER, EE_MARKER]:\n",
    "        c.register_marker_size(marker[0], marker[1])\n",
    "\n",
    "# Register markers in scene\n",
    "scene.add_marker(TABLE_MARKER[0], length=TABLE_MARKER[1])\n",
    "scene.add_marker(EE_MARKER[0], length=EE_MARKER[1], frame=\"ee\")"
   ]
  },
  {
   "cell_type": "markdown",
   "metadata": {},
   "source": [
    "Load calibration data\n",
    "\n",
    "`ee_poses.npz` contains a dictionary with fields \"pos\" and \"quat\", each containing a matrix where the j th row is the position or quaternion of the end-effector in that sample.\n",
    "\n",
    "`camera<i>_<j>.jpg` contains the image taken from the i th camera at the j th sample."
   ]
  },
  {
   "cell_type": "code",
   "execution_count": 5,
   "metadata": {},
   "outputs": [],
   "source": [
    "# Load EE pose data\n",
    "ee_pose_data = np.load(os.path.join(DATA_DIR, \"ee_poses.npz\"))\n",
    "\n",
    "# Load images\n",
    "imgs_data = []\n",
    "for j in range(NUM_SAMPLES):\n",
    "    imgs = []\n",
    "    for i in range(NUM_CAMERAS):\n",
    "        filename = os.path.join(DATA_DIR, f\"camera{i}_{j}.jpg\")\n",
    "        img = cv2.imread(filename)\n",
    "        imgs.append(img)\n",
    "    \n",
    "    imgs_data.append(imgs)"
   ]
  },
  {
   "cell_type": "markdown",
   "metadata": {},
   "source": [
    "Add snapshots to scene & solve for extrinsics\n",
    "\n",
    "Note: The optimization process begins by using BFS to initialize all nodes within the factor graph. `init_node` specifies which node to start the BFS from. `init_node` can be any camera, marker, or frame, and defaults to the world frame if not specified. In this particular set of the hand-eye calibration problem, the world frame (which is the robot base) is not a good initialization point, and thus only by specifying the table marker as the initialization node can the optimization problem work."
   ]
  },
  {
   "cell_type": "code",
   "execution_count": 6,
   "metadata": {
    "scrolled": true
   },
   "outputs": [
    {
     "name": "stdout",
     "output_type": "stream",
     "text": [
      "Warning:  Levenberg-Marquardt giving up because cannot decrease error with maximum lambda\n",
      "converged\n",
      "errorThreshold: 1174.32 <? 0\n",
      "absoluteDecrease: 0 <? 1e-05\n",
      "relativeDecrease: 0 <? 1e-05\n",
      "iterations: 0 >? 100\n"
     ]
    }
   ],
   "source": [
    "# Add snapshots\n",
    "for j in range(NUM_SAMPLES):\n",
    "    # Extract sampled EE pose \n",
    "    ee_pos = ee_pose_data[\"pos\"][j, :]\n",
    "    ee_quat = ee_pose_data[\"quat\"][j, :]\n",
    "    ee_pose = frt.utils.xyz_quat_to_se3(ee_pos, ee_quat)\n",
    "\n",
    "    # Extract sampled images\n",
    "    imgs = imgs_data[j]\n",
    "    marker_obs = [c.detect_markers(img) for c, img in zip(camera_modules, imgs)]\n",
    "\n",
    "    # Add snapshot\n",
    "    scene.add_snapshot(\n",
    "        detected_markers={f\"camera_{i + 1}\": detected_markers for i, detected_markers in enumerate(marker_obs)},\n",
    "        frame_transforms=[(\"world\", \"ee\", ee_pose)],\n",
    "    )\n",
    "\n",
    "# Calibrate extrinsics\n",
    "scene.calibrate_extrinsics(init_node=f\"o__{TABLE_MARKER[0]}\", verbosity=1)"
   ]
  },
  {
   "cell_type": "markdown",
   "metadata": {},
   "source": [
    "Query & vizualize results"
   ]
  },
  {
   "cell_type": "code",
   "execution_count": 7,
   "metadata": {},
   "outputs": [
    {
     "name": "stdout",
     "output_type": "stream",
     "text": [
      "{'name': 'camera_1', 'frame': 'world', 'pose': SE3([[   0.99764415998937,  0.0128530549030218,  0.0673864156842067,  0.0111670386598829],\n",
      "     [-0.0586011652214222,  -0.351020032120598,   0.934532418102627,  -0.912948200878582],\n",
      "     [ 0.0356655782764891,  -0.936279731720019,  -0.349439881090424,   0.551794583074686],\n",
      "     [                  0,                   0,                   0,                   1]]), 'pose_in_frame': SE3([[1, 0, 0, 0],\n",
      "     [0, 1, 0, 0],\n",
      "     [0, 0, 1, 0],\n",
      "     [0, 0, 0, 1]]), 'is_anchor': False}\n",
      "{'name': 'camera_2', 'frame': 'world', 'pose': SE3([[ 0.567560536947371,  0.505290976245119, -0.650043126434905,  0.610495048945605],\n",
      "     [ 0.822265346291711, -0.307699583036638,  0.478749064632874, -0.449509221442787],\n",
      "     [0.0418895832849293, -0.806227012648629, -0.590121400127026,  0.663249683015241],\n",
      "     [                 0,                  0,                  0,                  1]]), 'pose_in_frame': SE3([[1, 0, 0, 0],\n",
      "     [0, 1, 0, 0],\n",
      "     [0, 0, 1, 0],\n",
      "     [0, 0, 0, 1]]), 'is_anchor': False}\n",
      "{'name': 'camera_3', 'frame': 'world', 'pose': SE3([[ 0.429585663392118, -0.591846935341592,  0.682036188874696, -0.590684703113467],\n",
      "     [-0.900853504166582, -0.228514588737446,  0.369112512338645, -0.433958599763013],\n",
      "     [-0.062602890019106, -0.772980134195518, -0.631333976830278,  0.682197051040887],\n",
      "     [                 0,                  0,                  0,                  1]]), 'pose_in_frame': SE3([[1, 0, 0, 0],\n",
      "     [0, 1, 0, 0],\n",
      "     [0, 0, 1, 0],\n",
      "     [0, 0, 0, 1]]), 'is_anchor': False}\n"
     ]
    },
    {
     "data": {
      "image/png": "[encoded data removed]",
      "text/plain": [
       "<Figure size 432x288 with 1 Axes>"
      ]
     },
     "metadata": {
      "needs_background": "light"
     },
     "output_type": "display_data"
    }
   ],
   "source": [
    "for i in range(NUM_CAMERAS):\n",
    "    print(scene.get_camera_info(f\"camera_{i + 1}\"))\n",
    "\n",
    "scene.visualize()"
   ]
  }
 ],
 "metadata": {
  "kernelspec": {
   "display_name": "Python 3 (ipykernel)",
   "language": "python",
   "name": "python3"
  },
  "language_info": {
   "codemirror_mode": {
    "name": "ipython",
    "version": 3
   },
   "file_extension": ".py",
   "mimetype": "text/x-python",
   "name": "python",
   "nbconvert_exporter": "python",
   "pygments_lexer": "ipython3",
   "version": "3.8.12"
  }
 },
 "nbformat": 4,
 "nbformat_minor": 2
}
