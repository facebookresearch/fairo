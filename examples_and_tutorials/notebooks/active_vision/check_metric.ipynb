{
 "cells": [
  {
   "cell_type": "code",
   "execution_count": null,
   "id": "a50103a5-2594-41ab-8ea5-18284b40dffa",
   "metadata": {},
   "outputs": [],
   "source": [
    "# 200 trajectories, \n",
    "# for each data point active AP is better than baseline AP\n",
    "\n",
    "aps = []\n",
    "\n",
    "import random \n",
    "import numpy as np\n",
    "import matplotlib.pyplot as plt\n",
    "from collections import defaultdict, namedtuple\n",
    "\n",
    "traj_aps_base, traj_aps_act = defaultdict(list), defaultdict(list)\n",
    "\n",
    "for _ in range(5):\n",
    "    for p in range(0,20,2):\n",
    "        ap = random.uniform(1, 90)\n",
    "        traj_aps_base[p].append(ap)\n",
    "        traj_aps_act[p].append(ap+10)\n",
    "    \n",
    "# print(traj_aps_base, traj_aps_act)\n",
    "\n",
    "meanvar = namedtuple('meanvar', 'mean, var')\n",
    "\n",
    "def get_mean_var(a):\n",
    "    mv = defaultdict(meanvar)\n",
    "    for p, aps in a.items():\n",
    "        mv[p] = meanvar(np.average(aps), np.var(aps))\n",
    "    print(mv)\n",
    "    return mv\n",
    "        \n",
    "    \n",
    "def draw(xs, ys_bbox, ys_bb_err, label):\n",
    "    # print(f'len xs {len(xs)}, len ys {len(ys_bbox), len(ys_segm)}')\n",
    "    # print(f'ys_bb_err {ys_bb_err}, ys_se_err {ys_se_err}')\n",
    "    plt.ylabel('AP')\n",
    "    plt.errorbar(xs, ys_bbox, yerr=ys_bb_err, label=label) \n",
    "\n",
    "import math\n",
    "\n",
    "# plot\n",
    "def plot(a, b):\n",
    "    fig = plt.figure(figsize=(15,10))\n",
    "    for x, label in [a, b]:\n",
    "        x_mv = get_mean_var(x) \n",
    "        xs, xv, xerr = [], [], []\n",
    "        for k, v in x_mv.items():\n",
    "            print(v)\n",
    "            xs.append(xs)\n",
    "            xv.append(v.mean)\n",
    "            xerr.append(math.sqrt(v.var))\n",
    "        draw(xs, xv, xerr, label)\n",
    "    plt.show()\n",
    "    \n",
    "    \n",
    "\n",
    "plot((traj_aps_base, 'baseline'), (traj_aps_act, 'active'))"
   ]
  },
  {
   "cell_type": "code",
   "execution_count": null,
   "id": "707d358b-f2ed-4117-b977-982445097d3f",
   "metadata": {},
   "outputs": [],
   "source": []
  }
 ],
 "metadata": {
  "kernelspec": {
   "display_name": "Python [conda env:droidlet]",
   "language": "python",
   "name": "conda-env-droidlet-py"
  },
  "language_info": {
   "codemirror_mode": {
    "name": "ipython",
    "version": 3
   },
   "file_extension": ".py",
   "mimetype": "text/x-python",
   "name": "python",
   "nbconvert_exporter": "python",
   "pygments_lexer": "ipython3",
   "version": "3.7.12"
  }
 },
 "nbformat": 4,
 "nbformat_minor": 5
}
